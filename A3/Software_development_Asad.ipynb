{
 "cells": [
  {
   "cell_type": "code",
   "execution_count": 1,
   "id": "9b5e9477-57d4-42a2-97e7-f346ddc38f0d",
   "metadata": {},
   "outputs": [],
   "source": [
    "# import ee and folium\n",
    "import ee\n",
    "import folium"
   ]
  },
  {
   "cell_type": "code",
   "execution_count": 2,
   "id": "e013e4b7-73c1-4b40-a933-ce86ba0a9fb6",
   "metadata": {},
   "outputs": [
    {
     "data": {
      "text/plain": [
       "True"
      ]
     },
     "execution_count": 2,
     "metadata": {},
     "output_type": "execute_result"
    }
   ],
   "source": [
    "#authentificate, generate token and allow access rights\n",
    "ee.Authenticate()"
   ]
  },
  {
   "cell_type": "code",
   "execution_count": 3,
   "id": "2cd5ec6b-80cd-4146-9c27-289beb1233ac",
   "metadata": {},
   "outputs": [],
   "source": [
    "ee.Initialize()"
   ]
  },
  {
   "cell_type": "markdown",
   "id": "21fd9583-8ee2-423c-bb5b-6791ba78b321",
   "metadata": {},
   "source": [
    "## Setting the area of interest"
   ]
  },
  {
   "cell_type": "code",
   "execution_count": 4,
   "id": "f6470636-855b-4f66-961b-646b3fb2127c",
   "metadata": {},
   "outputs": [],
   "source": [
    "# area of interest in salzburg, austria\n",
    "aoi = ee.Geometry.Rectangle(12.7,\n",
    "                            46,\n",
    "                            13.3,\n",
    "                            48.9)"
   ]
  },
  {
   "cell_type": "markdown",
   "id": "c2ed2a95-7fec-424d-a40d-01b05e9f2e9f",
   "metadata": {},
   "source": [
    "## Setting the time Period"
   ]
  },
  {
   "cell_type": "code",
   "execution_count": 5,
   "id": "dfdf723c-2f65-47b3-a79b-6b559424ab4f",
   "metadata": {},
   "outputs": [],
   "source": [
    "start_date = '2024-01-01'\n",
    "end_date = '2024-04-30'"
   ]
  },
  {
   "cell_type": "markdown",
   "id": "bf693d1f-023f-4414-a16f-a08456ed872d",
   "metadata": {},
   "source": [
    "## Getting the Data"
   ]
  },
  {
   "cell_type": "code",
   "execution_count": 6,
   "id": "80cb707d-67dd-4604-a264-3ebe7619db47",
   "metadata": {},
   "outputs": [
    {
     "name": "stderr",
     "output_type": "stream",
     "text": [
      "C:\\Users\\DELL\\anaconda3\\envs\\A3_Asad\\Lib\\site-packages\\ee\\deprecation.py:202: DeprecationWarning: \n",
      "\n",
      "Attention required for COPERNICUS/S2! You are using a deprecated asset.\n",
      "To ensure continued functionality, please update it.\n",
      "Learn more: https://developers.google.com/earth-engine/datasets/catalog/COPERNICUS_S2\n",
      "\n",
      "  warnings.warn(warning, category=DeprecationWarning)\n"
     ]
    },
    {
     "name": "stdout",
     "output_type": "stream",
     "text": [
      "76\n"
     ]
    }
   ],
   "source": [
    "# select sentinel 2 imagery\n",
    "s2_collection = ee.ImageCollection('COPERNICUS/S2').filterBounds(aoi).filterDate(start_date, end_date)\n",
    "s2_collection = s2_collection.filterMetadata('CLOUDY_PIXEL_PERCENTAGE', 'less_than', 20);\n",
    "\n",
    "# amount of images in the selection\n",
    "print(s2_collection.size().getInfo())\n",
    "\n",
    "# reduce collection to mean\n",
    "mean_collection = s2_collection.reduce(ee.Reducer.mean())"
   ]
  },
  {
   "cell_type": "markdown",
   "id": "d8007fb4-05bc-4a11-9407-bdba8c37dcc4",
   "metadata": {},
   "source": [
    "## Calculating NDVI"
   ]
  },
  {
   "cell_type": "code",
   "execution_count": 7,
   "id": "5b4136b9-519b-4577-af45-f2de2e025c1f",
   "metadata": {},
   "outputs": [],
   "source": [
    "# Function to calculate the NDVI\n",
    "def calculate_ndvi(image):\n",
    "    ndvi = image.expression(\n",
    "        '(NIR - RED) / (NIR + RED)',\n",
    "        {\n",
    "            'NIR': image.select('B8_mean'),\n",
    "            'RED': image.select('B4_mean')\n",
    "        })\n",
    "    return ndvi.rename('NDVI')"
   ]
  },
  {
   "cell_type": "code",
   "execution_count": 8,
   "id": "49691967-ebce-4676-adb3-5885ddf3a416",
   "metadata": {},
   "outputs": [],
   "source": [
    "# Calculate the NDVI\n",
    "ndvi_mean = calculate_ndvi(mean_collection)\n",
    "\n",
    "# Clip it to the AOI\n",
    "ndvi_mean = ndvi_mean.clip(aoi)"
   ]
  },
  {
   "cell_type": "code",
   "execution_count": 9,
   "id": "5f020f07-dfde-4ea7-b0c6-7ebc5258d814",
   "metadata": {},
   "outputs": [
    {
     "data": {
      "text/plain": [
       "{'type': 'Image',\n",
       " 'bands': [{'id': 'NDVI',\n",
       "   'data_type': {'type': 'PixelType', 'precision': 'double'},\n",
       "   'dimensions': [2, 5],\n",
       "   'origin': [12, 45],\n",
       "   'crs': 'EPSG:4326',\n",
       "   'crs_transform': [1, 0, 0, 0, 1, 0]}],\n",
       " 'properties': {'system:footprint': {'type': 'Polygon',\n",
       "   'coordinates': [[[12.7, 46],\n",
       "     [13.3, 46],\n",
       "     [13.3, 48.9],\n",
       "     [12.7, 48.9],\n",
       "     [12.7, 46]]]}}}"
      ]
     },
     "execution_count": 9,
     "metadata": {},
     "output_type": "execute_result"
    }
   ],
   "source": [
    "ndvi_mean.getInfo()"
   ]
  },
  {
   "cell_type": "markdown",
   "id": "e8b0d29c-b6c9-4e5d-890d-1543b6ebc6e3",
   "metadata": {},
   "source": [
    "## Map the Results"
   ]
  },
  {
   "cell_type": "code",
   "execution_count": 10,
   "id": "1a879500-8a66-4a17-8313-2e9c140cafe6",
   "metadata": {},
   "outputs": [
    {
     "data": {
      "text/html": [
       "<div style=\"width:100%;\"><div style=\"position:relative;width:100%;height:0;padding-bottom:60%;\"><span style=\"color:#565656\">Make this Notebook Trusted to load map: File -> Trust Notebook</span><iframe srcdoc=\"&lt;!DOCTYPE html&gt;\n",
       "&lt;html&gt;\n",
       "&lt;head&gt;\n",
       "    \n",
       "    &lt;meta http-equiv=&quot;content-type&quot; content=&quot;text/html; charset=UTF-8&quot; /&gt;\n",
       "    \n",
       "        &lt;script&gt;\n",
       "            L_NO_TOUCH = false;\n",
       "            L_DISABLE_3D = false;\n",
       "        &lt;/script&gt;\n",
       "    \n",
       "    &lt;style&gt;html, body {width: 100%;height: 100%;margin: 0;padding: 0;}&lt;/style&gt;\n",
       "    &lt;style&gt;#map {position:absolute;top:0;bottom:0;right:0;left:0;}&lt;/style&gt;\n",
       "    &lt;script src=&quot;https://cdn.jsdelivr.net/npm/leaflet@1.9.3/dist/leaflet.js&quot;&gt;&lt;/script&gt;\n",
       "    &lt;script src=&quot;https://code.jquery.com/jquery-3.7.1.min.js&quot;&gt;&lt;/script&gt;\n",
       "    &lt;script src=&quot;https://cdn.jsdelivr.net/npm/bootstrap@5.2.2/dist/js/bootstrap.bundle.min.js&quot;&gt;&lt;/script&gt;\n",
       "    &lt;script src=&quot;https://cdnjs.cloudflare.com/ajax/libs/Leaflet.awesome-markers/2.0.2/leaflet.awesome-markers.js&quot;&gt;&lt;/script&gt;\n",
       "    &lt;link rel=&quot;stylesheet&quot; href=&quot;https://cdn.jsdelivr.net/npm/leaflet@1.9.3/dist/leaflet.css&quot;/&gt;\n",
       "    &lt;link rel=&quot;stylesheet&quot; href=&quot;https://cdn.jsdelivr.net/npm/bootstrap@5.2.2/dist/css/bootstrap.min.css&quot;/&gt;\n",
       "    &lt;link rel=&quot;stylesheet&quot; href=&quot;https://netdna.bootstrapcdn.com/bootstrap/3.0.0/css/bootstrap.min.css&quot;/&gt;\n",
       "    &lt;link rel=&quot;stylesheet&quot; href=&quot;https://cdn.jsdelivr.net/npm/@fortawesome/fontawesome-free@6.2.0/css/all.min.css&quot;/&gt;\n",
       "    &lt;link rel=&quot;stylesheet&quot; href=&quot;https://cdnjs.cloudflare.com/ajax/libs/Leaflet.awesome-markers/2.0.2/leaflet.awesome-markers.css&quot;/&gt;\n",
       "    &lt;link rel=&quot;stylesheet&quot; href=&quot;https://cdn.jsdelivr.net/gh/python-visualization/folium/folium/templates/leaflet.awesome.rotate.min.css&quot;/&gt;\n",
       "    \n",
       "            &lt;meta name=&quot;viewport&quot; content=&quot;width=device-width,\n",
       "                initial-scale=1.0, maximum-scale=1.0, user-scalable=no&quot; /&gt;\n",
       "            &lt;style&gt;\n",
       "                #map_bf60fa1d27095821f7f8459fd15e2572 {\n",
       "                    position: relative;\n",
       "                    width: 100.0%;\n",
       "                    height: 100.0%;\n",
       "                    left: 0.0%;\n",
       "                    top: 0.0%;\n",
       "                }\n",
       "                .leaflet-container { font-size: 1rem; }\n",
       "            &lt;/style&gt;\n",
       "        \n",
       "&lt;/head&gt;\n",
       "&lt;body&gt;\n",
       "    \n",
       "    \n",
       "            &lt;div class=&quot;folium-map&quot; id=&quot;map_bf60fa1d27095821f7f8459fd15e2572&quot; &gt;&lt;/div&gt;\n",
       "        \n",
       "&lt;/body&gt;\n",
       "&lt;script&gt;\n",
       "    \n",
       "    \n",
       "            var map_bf60fa1d27095821f7f8459fd15e2572 = L.map(\n",
       "                &quot;map_bf60fa1d27095821f7f8459fd15e2572&quot;,\n",
       "                {\n",
       "                    center: [47.8, 13.01],\n",
       "                    crs: L.CRS.EPSG3857,\n",
       "                    zoom: 12,\n",
       "                    zoomControl: true,\n",
       "                    preferCanvas: false,\n",
       "                }\n",
       "            );\n",
       "\n",
       "            \n",
       "\n",
       "        \n",
       "    \n",
       "            var tile_layer_429485ceba492eb21082428136da8f4d = L.tileLayer(\n",
       "                &quot;https://tile.openstreetmap.org/{z}/{x}/{y}.png&quot;,\n",
       "                {&quot;attribution&quot;: &quot;\\u0026copy; \\u003ca href=\\&quot;https://www.openstreetmap.org/copyright\\&quot;\\u003eOpenStreetMap\\u003c/a\\u003e contributors&quot;, &quot;detectRetina&quot;: false, &quot;maxNativeZoom&quot;: 19, &quot;maxZoom&quot;: 19, &quot;minZoom&quot;: 0, &quot;noWrap&quot;: false, &quot;opacity&quot;: 1, &quot;subdomains&quot;: &quot;abc&quot;, &quot;tms&quot;: false}\n",
       "            );\n",
       "        \n",
       "    \n",
       "            tile_layer_429485ceba492eb21082428136da8f4d.addTo(map_bf60fa1d27095821f7f8459fd15e2572);\n",
       "        \n",
       "    \n",
       "            var tile_layer_65c071f59c80e40784df84d5c50bc816 = L.tileLayer(\n",
       "                &quot;https://earthengine.googleapis.com/v1/projects/earthengine-legacy/maps/d7bc88026aa1da8dee10af25f50f9231-4da6379ae279d001de4c76006ae34da0/tiles/{z}/{x}/{y}&quot;,\n",
       "                {&quot;attribution&quot;: &quot;Map Data GEE&quot;, &quot;detectRetina&quot;: false, &quot;maxNativeZoom&quot;: 18, &quot;maxZoom&quot;: 18, &quot;minZoom&quot;: 0, &quot;noWrap&quot;: false, &quot;opacity&quot;: 1, &quot;subdomains&quot;: &quot;abc&quot;, &quot;tms&quot;: false}\n",
       "            );\n",
       "        \n",
       "    \n",
       "            tile_layer_65c071f59c80e40784df84d5c50bc816.addTo(map_bf60fa1d27095821f7f8459fd15e2572);\n",
       "        \n",
       "&lt;/script&gt;\n",
       "&lt;/html&gt;\" style=\"position:absolute;width:100%;height:100%;left:0;top:0;border:none !important;\" allowfullscreen webkitallowfullscreen mozallowfullscreen></iframe></div></div>"
      ],
      "text/plain": [
       "<folium.folium.Map at 0x2ab192f71d0>"
      ]
     },
     "metadata": {},
     "output_type": "display_data"
    }
   ],
   "source": [
    "# function to add the layer to folium map\n",
    "def add_ee_layer(self, ee_object, color, name):\n",
    "    map_id_dict = ee.Image(ee_object).getMapId(color)\n",
    "    folium.raster_layers.TileLayer(\n",
    "        tiles = map_id_dict['tile_fetcher'].url_format,\n",
    "        attr = \"Map Data GEE\",\n",
    "        name = name,\n",
    "        overlay = True,\n",
    "        control = True\n",
    "    ).add_to(self)\n",
    "\n",
    "# add the earth engine function to the folium map\n",
    "folium.Map.add_ee_layer = add_ee_layer\n",
    "\n",
    "# create folium map\n",
    "map = folium.Map(location=[47.80, 13.01], zoom_start = 12)\n",
    "\n",
    "# setting the vis variables\n",
    "ndvi_color = {\n",
    "    'min': -1,\n",
    "    'max': 1.0,\n",
    "    'palette': ['blue', 'white', 'green']\n",
    "}\n",
    "\n",
    "# add the ndvi layer to the map\n",
    "map.add_ee_layer(ndvi_mean, ndvi_color, 'NDVI')\n",
    "\n",
    "# display the map\n",
    "display(map)"
   ]
  },
  {
   "cell_type": "code",
   "execution_count": null,
   "id": "96535c8e-5905-4aa8-9499-e096e15bf39e",
   "metadata": {},
   "outputs": [],
   "source": []
  }
 ],
 "metadata": {
  "kernelspec": {
   "display_name": "Python 3 (ipykernel)",
   "language": "python",
   "name": "python3"
  },
  "language_info": {
   "codemirror_mode": {
    "name": "ipython",
    "version": 3
   },
   "file_extension": ".py",
   "mimetype": "text/x-python",
   "name": "python",
   "nbconvert_exporter": "python",
   "pygments_lexer": "ipython3",
   "version": "3.12.3"
  }
 },
 "nbformat": 4,
 "nbformat_minor": 5
}
